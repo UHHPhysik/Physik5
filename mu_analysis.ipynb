{
 "cells": [
  {
   "cell_type": "code",
   "execution_count": 1,
   "metadata": {
    "collapsed": false
   },
   "outputs": [],
   "source": [
    "%matplotlib inline\n",
    "import matplotlib.pyplot as plt\n",
    "from mu_analysis import LorentzVector, read_events"
   ]
  },
  {
   "cell_type": "code",
   "execution_count": 2,
   "metadata": {
    "collapsed": false
   },
   "outputs": [],
   "source": [
    "p1 = LorentzVector(pt=10, eta=1.4, phi=0.1, m=0, charge=-1)\n",
    "p2 = LorentzVector(pt=36, eta=1.4, phi=1.1, m=0, charge=+1)\n",
    "p3 = p1+p2"
   ]
  },
  {
   "cell_type": "code",
   "execution_count": 3,
   "metadata": {
    "collapsed": false
   },
   "outputs": [
    {
     "data": {
      "text/plain": [
       "10.0"
      ]
     },
     "execution_count": 3,
     "metadata": {},
     "output_type": "execute_result"
    }
   ],
   "source": [
    "p1.pt"
   ]
  },
  {
   "cell_type": "code",
   "execution_count": 4,
   "metadata": {
    "collapsed": false
   },
   "outputs": [
    {
     "data": {
      "text/plain": [
       "(42.24946934844343, 1.4759647773544189, 0.8994919462509835, 0)"
      ]
     },
     "execution_count": 4,
     "metadata": {},
     "output_type": "execute_result"
    }
   ],
   "source": [
    "(p3.pt, p3.eta, p3.phi, p3.charge)"
   ]
  },
  {
   "cell_type": "code",
   "execution_count": 5,
   "metadata": {
    "collapsed": false
   },
   "outputs": [
    {
     "data": {
      "text/plain": [
       "(pt=108.00, eta=1.40, phi=1.10, m=36.00, Q=1)"
      ]
     },
     "execution_count": 5,
     "metadata": {},
     "output_type": "execute_result"
    }
   ],
   "source": [
    "p4 = LorentzVector(pt=36, eta=1.4, phi=1.1, m=12, charge=+1)\n",
    "p4*3"
   ]
  },
  {
   "cell_type": "code",
   "execution_count": 6,
   "metadata": {
    "collapsed": false
   },
   "outputs": [
    {
     "name": "stdout",
     "output_type": "stream",
     "text": [
      "Loading ... mu_data_nmin2_nmax4_part1.json\n",
      "Available Trigger: HLT_Mu3, HLT_Mu5, HLT_Mu8, HLT_Mu12, HLT_Mu15, HLT_Mu20, HLT_Mu24, HLT_Mu30, HLT_Mu40, HLT_Mu60, HLT_Mu100\n"
     ]
    }
   ],
   "source": [
    "data_mu = []\n",
    "for muon_list in read_events(['mu_data_nmin2_nmax4_part1.json']):\n",
    "    data_mu.append(muon_list[0].pt)"
   ]
  },
  {
   "cell_type": "code",
   "execution_count": 7,
   "metadata": {
    "collapsed": false
   },
   "outputs": [
    {
     "data": {
      "image/png": "[encoded data removed]",
      "text/plain": [
       "<matplotlib.figure.Figure at 0x1e728d22a90>"
      ]
     },
     "metadata": {},
     "output_type": "display_data"
    }
   ],
   "source": [
    "values, bins, patch_list = plt.hist(data_mu, bins=10, range=(0,20))"
   ]
  },
  {
   "cell_type": "code",
   "execution_count": null,
   "metadata": {
    "collapsed": true
   },
   "outputs": [],
   "source": []
  }
 ],
 "metadata": {
  "kernelspec": {
   "display_name": "Python 3",
   "language": "python",
   "name": "python3"
  },
  "language_info": {
   "codemirror_mode": {
    "name": "ipython",
    "version": 3
   },
   "file_extension": ".py",
   "mimetype": "text/x-python",
   "name": "python",
   "nbconvert_exporter": "python",
   "pygments_lexer": "ipython3",
   "version": "3.5.2"
  }
 },
 "nbformat": 4,
 "nbformat_minor": 1
}
