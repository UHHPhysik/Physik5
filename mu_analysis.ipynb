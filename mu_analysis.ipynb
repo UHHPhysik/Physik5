{
 "cells": [
  {
   "cell_type": "code",
   "execution_count": 1,
   "metadata": {
    "collapsed": false
   },
   "outputs": [],
   "source": [
    "# Man führt eine Zelle aus, indem man Shift+Enter drückt, oder das \"Play\" Symbol in der Toolbar verwendet\n",
    "# Hier werden verschiedene Bibliotheken für später geladen \n",
    "%matplotlib inline\n",
    "import numpy, matplotlib.pyplot as plt\n",
    "from mu_analysis import LorentzVector, read_events"
   ]
  },
  {
   "cell_type": "code",
   "execution_count": 2,
   "metadata": {
    "collapsed": false
   },
   "outputs": [],
   "source": [
    "# Hier ist ein Beispiel, wie man Lorentzvektoren (LV) mit zusätzlich gespeicherter Ladung erstellen kann\n",
    "# Die Konvention hier ist, dass alle Energien, Massen und Impulse in GeV angegeben sind.\n",
    "p1 = LorentzVector(pt=10, eta=1.4, phi=0.1, m=0, charge=-1)\n",
    "p2 = LorentzVector(pt=36, eta=1.4, phi=1.1, m=0, charge=+1)\n",
    "p3 = p1+p2"
   ]
  },
  {
   "cell_type": "code",
   "execution_count": 3,
   "metadata": {
    "collapsed": false
   },
   "outputs": [
    {
     "data": {
      "text/plain": [
       "21.508984653931407"
      ]
     },
     "execution_count": 3,
     "metadata": {},
     "output_type": "execute_result"
    }
   ],
   "source": [
    "# Zugriff auf die Energie des oben definierten Lorentzvektors p1 \n",
    "p1.E"
   ]
  },
  {
   "cell_type": "code",
   "execution_count": 4,
   "metadata": {
    "collapsed": false
   },
   "outputs": [
    {
     "data": {
      "text/plain": [
       "(pt=42.25, eta=1.48, phi=0.90, m=18.19, Q=0)"
      ]
     },
     "execution_count": 4,
     "metadata": {},
     "output_type": "execute_result"
    }
   ],
   "source": [
    "# Man kann auch einfach alle Eigenschaften eines LVs darstellen\n",
    "p3"
   ]
  },
  {
   "cell_type": "code",
   "execution_count": 5,
   "metadata": {
    "collapsed": false
   },
   "outputs": [
    {
     "data": {
      "text/plain": [
       "(pt=105.01, eta=-0.97, phi=-0.19, m=917.47, Q=0)"
      ]
     },
     "execution_count": 5,
     "metadata": {},
     "output_type": "execute_result"
    }
   ],
   "source": [
    "# Rechnungen mit den Lorentzvektoren sind Komponentenweise definiert - und wirken nicht auf die Ladung\n",
    "p4 = LorentzVector(pt=60, eta=-0.4, phi=0.1, m=500, charge=+1)\n",
    "2*p4 - p2"
   ]
  },
  {
   "cell_type": "code",
   "execution_count": 6,
   "metadata": {
    "collapsed": false
   },
   "outputs": [
    {
     "name": "stdout",
     "output_type": "stream",
     "text": [
      "Loading ... mu_data_nmin2_nmax4_part1.json\n",
      "Available Trigger: HLT_Mu3, HLT_Mu5, HLT_Mu8, HLT_Mu12, HLT_Mu15, HLT_Mu20, HLT_Mu24, HLT_Mu30, HLT_Mu40, HLT_Mu60, HLT_Mu100\n",
      "Finished processing!"
     ]
    }
   ],
   "source": [
    "# Hier ist ein Beispiel, wie man über alle Ereignisse in der Datei mu_data_nmin2_nmax4_part1.json läuft (es gibt part1-4).\n",
    "# Das prozessieren dieser Zelle kann relativ lange dauern (markiert durch In[*]) und viel Speicher in anspruch nehmen!\n",
    "data_mu_pt = []\n",
    "data_mu_count = []\n",
    "# Ohne zusätzliche Angaben werden alle Ereignisse prozessiert, die den HLT_Mu30 Trigger passiert haben.\n",
    "# Das bedeutet, dass der Detektor ein Myon mit > 30 GeV im Ereignis gefunden haben muss.\n",
    "for muon_list in read_events(['mu_data_nmin2_nmax4_part1.json']):\n",
    "    # Die Funktion read_events gibt eine Liste mit rekonstruierten Myonen zurück.\n",
    "    # Sie ist nach dem transversalen Impuls der Myonen sortiert\n",
    "    if 5 < muon_list[0].pt < 100: # Selektiere Ereignisse in denen pT des ersten Myons zwischen 5 und 100 GeV liegt\n",
    "        data_mu_pt.append(muon_list[0].pt) # Dies fügt den Transversalimpuls des ersten Myons zur Liste data_mu_pt hinzu\n",
    "        data_mu_count.append(len(muon_list)) # Dies fügt die Anzahl der rekonstruierten Myonen zur Liste data_mu_count hinzu"
   ]
  },
  {
   "cell_type": "code",
   "execution_count": 7,
   "metadata": {
    "collapsed": false
   },
   "outputs": [
    {
     "data": {
      "text/plain": [
       "(2.7756112387871599, 0.84796899624231403)"
      ]
     },
     "execution_count": 7,
     "metadata": {},
     "output_type": "execute_result"
    }
   ],
   "source": [
    "# Die Bibliothek \"numpy\" (https://docs.scipy.org/doc/numpy-dev/user/quickstart.html)\n",
    "# stellt viele statistische Funktionen bereit\n",
    "numpy.average(data_mu_count), numpy.std(data_mu_count)"
   ]
  },
  {
   "cell_type": "code",
   "execution_count": 8,
   "metadata": {
    "collapsed": false
   },
   "outputs": [
    {
     "data": {
      "image/png": "[encoded data removed]",
      "text/plain": [
       "<matplotlib.figure.Figure at 0x1656daa5748>"
      ]
     },
     "metadata": {},
     "output_type": "display_data"
    }
   ],
   "source": [
    "# Zeichnen kann man mit der Bibliothek \"matplotlib\" (http://matplotlib.org/gallery.html)\n",
    "# Hier wird ein Histogram mit der pT Verteilung des Myons mit der höchsten Energie im Ereignis gezeichnet\n",
    "# Obwohl der Trigger HLT_Mu30 verwendet wurde, kann es sein, dass das Myon mit dem höchsten Transversalimpuls\n",
    "# z.B. nur 5 GeV besitzt. Das liegt daran, dass der Trigger mit \"einfach\" rekonstruierten Myonen arbeitet,\n",
    "# aber bei der späteren, detailierteren Rekonstruktion zusätzliche Qualitätskriterien angewendet werden.\n",
    "values, bins, patch_list = plt.hist(data_mu_pt, bins=20, range=(15,100), normed=True)"
   ]
  },
  {
   "cell_type": "code",
   "execution_count": 9,
   "metadata": {
    "collapsed": false
   },
   "outputs": [
    {
     "data": {
      "image/png": "[encoded data removed]",
      "text/plain": [
       "<matplotlib.figure.Figure at 0x1656dae56a0>"
      ]
     },
     "metadata": {},
     "output_type": "display_data"
    }
   ],
   "source": [
    "# matplotlib besitzt viele Funktionen, um die Ergebnisse graphisch darzustellen.\n",
    "# Die Dokumentation für die Funktionen und Optionen befindet sich hier: http://matplotlib.org/api/pyplot_api.html\n",
    "values, bins, patch_list = plt.hist(data_mu_count, bins=5, range=(0.5,5.5), color='g', log=True)"
   ]
  },
  {
   "cell_type": "code",
   "execution_count": null,
   "metadata": {
    "collapsed": true
   },
   "outputs": [],
   "source": []
  }
 ],
 "metadata": {
  "kernelspec": {
   "display_name": "Python 3",
   "language": "python",
   "name": "python3"
  },
  "language_info": {
   "codemirror_mode": {
    "name": "ipython",
    "version": 3
   },
   "file_extension": ".py",
   "mimetype": "text/x-python",
   "name": "python",
   "nbconvert_exporter": "python",
   "pygments_lexer": "ipython3",
   "version": "3.5.2"
  }
 },
 "nbformat": 4,
 "nbformat_minor": 1
}
